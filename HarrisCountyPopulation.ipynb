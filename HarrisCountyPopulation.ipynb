{
  "nbformat": 4,
  "nbformat_minor": 0,
  "metadata": {
    "colab": {
      "name": "HarrisCountyPopulation.ipynb",
      "version": "0.3.2",
      "provenance": [],
      "collapsed_sections": [],
      "include_colab_link": true
    },
    "kernelspec": {
      "name": "python3",
      "display_name": "Python 3"
    }
  },
  "cells": [
    {
      "cell_type": "markdown",
      "metadata": {
        "id": "view-in-github",
        "colab_type": "text"
      },
      "source": [
        "<a href=\"https://colab.research.google.com/github/MirandaCJohnson/HarrisCountyPopulation/blob/master/HarrisCountyPopulation.ipynb\" target=\"_parent\"><img src=\"https://colab.research.google.com/assets/colab-badge.svg\" alt=\"Open In Colab\"/></a>"
      ]
    },
    {
      "metadata": {
        "id": "w1R3I45LAno6",
        "colab_type": "code",
        "colab": {}
      },
      "cell_type": "code",
      "source": [
        "#*** 03/08/2019  \n",
        "#****************** 3/23/19 DATAFILE PROBLEM FIXED!\n",
        "#******************\n",
        "# *~*~*~*~*~*~*~*~*~*~*~*~*~*~*~*~*~*~*~*~*~*~*~*~*~*~*~*~*~*~*~*~*~*~*\n",
        "\n",
        "import os\n",
        "import pandas as pd\n",
        "import numpy as np\n",
        "\n",
        "\n",
        "#***** Attempt to get data table from the github was resulting in parsing error.\n",
        "#***** 03/23/19 found a FIX! Use raw.githubusercontent file link instead of the github.com file link\n",
        "\n",
        "dataset=\"https://raw.githubusercontent.com/MirandaCJohnson/HarrisCountyPopulation/master/HarrisCountyPopulationData1990-2018.csv\"\n",
        "#dataset=\"https://github.com/MirandaCJohnson/HarrisCountyPopulation/blob/master/HarrisCountyPopulationData1990-2018.csv\"\n",
        "#print(dataset)\n",
        "\n",
        "table=pd.read_csv(dataset)\n",
        "#print(table)\n",
        "\n",
        "#***** 2D list with the Houston population data.  If the data file does not load, this table can be used.\n",
        "#Year,Total,Anglo,Black,Hispanic,Other\n",
        "# pop_data=[#[\"Year\", \"Total\", \"Anglo\", \"Black\", \"Hispanic\", \"Other\"], \n",
        "# [1990,2818199,1532412,529572,645504,110711], [1991,2884993,1550474,540822,677573,116124], [1992,2944348,1564959,549974,707848,121567],\n",
        "# [1993,3003167,1578485,558947,738747,126988], [1994,3039460,1586614,566154,757894,128798], [1995,3069359,1593397,572537,773856,129569],\n",
        "# [1996,3117376,1602774,579492,801543,133567], [1997,3157875,1609134,586038,826420,136283], [1998,3204720,1617733,593292,853783,139912],\n",
        "# [1999,3251550,1625727,600450,882039,143334], [2000,3400578,1456811,630184,1119751,193832], [2001,3461662,1436782,636191,1184181,204508],\n",
        "# [2002,3540965,1425264,645210,1254274,216217], [2003,3590921,1399824,648364,1315958,226775], [2004,3645275,1374353,651851,1381191,237880],\n",
        "# [2005,3693816,1346146,653246,1445913,248511], [2006,3830130,1335213,723873,1511155,259889], [2007,3891420,1309020,726346,1583992,272062],\n",
        "# [2008,3965716,1284964,730889,1664403,285460], [2009,4044032,1262951,735083,1746864,299134], [2010,4092459,1349646,754258,1671540,317015],\n",
        "# [2011,4176764,1342077,766888,1737235,330564], [2012,4245204,1353279,777936,1777136,336853], [2013,4325413,1328399,787526,1851606,357882],\n",
        "# [2014,4391445,1318226,795556,1907830,369833], [2015,4471427,1309800,805768,1970989,384870], [2016,4551437,1301030,815405,2035480,399522], \n",
        "# [2017,4633511,1291892,824757,2101568,415294], [2018,4716479,1282079,834180,2168974,431246]]\n",
        "\n",
        "#table=np.array(pop_data)\n",
        "\n"
      ],
      "execution_count": 0,
      "outputs": []
    },
    {
      "metadata": {
        "id": "oeqczet3CGkx",
        "colab_type": "code",
        "outputId": "2a98a987-85f8-48d1-cc9a-069db3bf5846",
        "colab": {
          "base_uri": "https://localhost:8080/",
          "height": 141
        }
      },
      "cell_type": "code",
      "source": [
        "#years=df[0][1:]\n",
        "#print(years)\n",
        "\n",
        "#df=pd.DataFrame(data=pop_data)\n",
        "df=pd.DataFrame(data=table)\n",
        "\n",
        "df.head(3)"
      ],
      "execution_count": 3,
      "outputs": [
        {
          "output_type": "execute_result",
          "data": {
            "text/html": [
              "<div>\n",
              "<style scoped>\n",
              "    .dataframe tbody tr th:only-of-type {\n",
              "        vertical-align: middle;\n",
              "    }\n",
              "\n",
              "    .dataframe tbody tr th {\n",
              "        vertical-align: top;\n",
              "    }\n",
              "\n",
              "    .dataframe thead th {\n",
              "        text-align: right;\n",
              "    }\n",
              "</style>\n",
              "<table border=\"1\" class=\"dataframe\">\n",
              "  <thead>\n",
              "    <tr style=\"text-align: right;\">\n",
              "      <th></th>\n",
              "      <th>year</th>\n",
              "      <th>total</th>\n",
              "      <th>anglo</th>\n",
              "      <th>black</th>\n",
              "      <th>hispanic</th>\n",
              "      <th>other</th>\n",
              "    </tr>\n",
              "  </thead>\n",
              "  <tbody>\n",
              "    <tr>\n",
              "      <th>0</th>\n",
              "      <td>1990</td>\n",
              "      <td>2818199</td>\n",
              "      <td>1532412</td>\n",
              "      <td>529572</td>\n",
              "      <td>645504</td>\n",
              "      <td>110711</td>\n",
              "    </tr>\n",
              "    <tr>\n",
              "      <th>1</th>\n",
              "      <td>1991</td>\n",
              "      <td>2884993</td>\n",
              "      <td>1550474</td>\n",
              "      <td>540822</td>\n",
              "      <td>677573</td>\n",
              "      <td>116124</td>\n",
              "    </tr>\n",
              "    <tr>\n",
              "      <th>2</th>\n",
              "      <td>1992</td>\n",
              "      <td>2944348</td>\n",
              "      <td>1564959</td>\n",
              "      <td>549974</td>\n",
              "      <td>707848</td>\n",
              "      <td>121567</td>\n",
              "    </tr>\n",
              "  </tbody>\n",
              "</table>\n",
              "</div>"
            ],
            "text/plain": [
              "   year    total    anglo   black  hispanic   other\n",
              "0  1990  2818199  1532412  529572    645504  110711\n",
              "1  1991  2884993  1550474  540822    677573  116124\n",
              "2  1992  2944348  1564959  549974    707848  121567"
            ]
          },
          "metadata": {
            "tags": []
          },
          "execution_count": 3
        }
      ]
    },
    {
      "metadata": {
        "id": "22P_MTeGppP0",
        "colab_type": "code",
        "colab": {
          "base_uri": "https://localhost:8080/",
          "height": 141
        },
        "outputId": "fdd64812-6540-4784-9460-78532e0d3536"
      },
      "cell_type": "code",
      "source": [
        "df.tail(3)"
      ],
      "execution_count": 4,
      "outputs": [
        {
          "output_type": "execute_result",
          "data": {
            "text/html": [
              "<div>\n",
              "<style scoped>\n",
              "    .dataframe tbody tr th:only-of-type {\n",
              "        vertical-align: middle;\n",
              "    }\n",
              "\n",
              "    .dataframe tbody tr th {\n",
              "        vertical-align: top;\n",
              "    }\n",
              "\n",
              "    .dataframe thead th {\n",
              "        text-align: right;\n",
              "    }\n",
              "</style>\n",
              "<table border=\"1\" class=\"dataframe\">\n",
              "  <thead>\n",
              "    <tr style=\"text-align: right;\">\n",
              "      <th></th>\n",
              "      <th>year</th>\n",
              "      <th>total</th>\n",
              "      <th>anglo</th>\n",
              "      <th>black</th>\n",
              "      <th>hispanic</th>\n",
              "      <th>other</th>\n",
              "    </tr>\n",
              "  </thead>\n",
              "  <tbody>\n",
              "    <tr>\n",
              "      <th>26</th>\n",
              "      <td>2016</td>\n",
              "      <td>4551437</td>\n",
              "      <td>1301030</td>\n",
              "      <td>815405</td>\n",
              "      <td>2035480</td>\n",
              "      <td>399522</td>\n",
              "    </tr>\n",
              "    <tr>\n",
              "      <th>27</th>\n",
              "      <td>2017</td>\n",
              "      <td>4633511</td>\n",
              "      <td>1291892</td>\n",
              "      <td>824757</td>\n",
              "      <td>2101568</td>\n",
              "      <td>415294</td>\n",
              "    </tr>\n",
              "    <tr>\n",
              "      <th>28</th>\n",
              "      <td>2018</td>\n",
              "      <td>4716479</td>\n",
              "      <td>1282079</td>\n",
              "      <td>834180</td>\n",
              "      <td>2168974</td>\n",
              "      <td>431246</td>\n",
              "    </tr>\n",
              "  </tbody>\n",
              "</table>\n",
              "</div>"
            ],
            "text/plain": [
              "    year    total    anglo   black  hispanic   other\n",
              "26  2016  4551437  1301030  815405   2035480  399522\n",
              "27  2017  4633511  1291892  824757   2101568  415294\n",
              "28  2018  4716479  1282079  834180   2168974  431246"
            ]
          },
          "metadata": {
            "tags": []
          },
          "execution_count": 4
        }
      ]
    },
    {
      "metadata": {
        "id": "LjsNZN1eIYgr",
        "colab_type": "code",
        "outputId": "272f708c-e86b-44aa-b0f1-715db9071948",
        "colab": {
          "base_uri": "https://localhost:8080/",
          "height": 382
        }
      },
      "cell_type": "code",
      "source": [
        "import matplotlib.pyplot as plt\n",
        "\n",
        "#print(df.loc[0:]['year']) #year column\n",
        "#print(df.loc[0:]['total']) #total population column\n",
        "\n",
        "xaxis=df.loc[0:]['year']\n",
        "\n",
        "print(\"Scatter plot of population data from 1990 - 2017\")\n",
        "plt.scatter(xaxis, df.loc[0:]['anglo']) #Anglo - Blue\n",
        "plt.scatter(xaxis, df.loc[0:]['black']) #Black - Green\n",
        "plt.scatter(xaxis, df.loc[0:]['hispanic']) #Hispanic - Red\n",
        "plt.scatter(xaxis, df.loc[0:]['other']) #Other - Purple"
      ],
      "execution_count": 6,
      "outputs": [
        {
          "output_type": "stream",
          "text": [
            "Scatter plot of population data from 1990 - 2017\n"
          ],
          "name": "stdout"
        },
        {
          "output_type": "execute_result",
          "data": {
            "text/plain": [
              "<matplotlib.collections.PathCollection at 0x7f8a408bdf98>"
            ]
          },
          "metadata": {
            "tags": []
          },
          "execution_count": 6
        },
        {
          "output_type": "display_data",
          "data": {
            "image/png": "[encoded data removed]",
            "text/plain": [
              "<Figure size 576x396 with 1 Axes>"
            ]
          },
          "metadata": {
            "tags": []
          }
        }
      ]
    },
    {
      "metadata": {
        "id": "6Adv-wcQQQK6",
        "colab_type": "code",
        "outputId": "4530da05-50dd-47bc-a063-5edddc966ffc",
        "colab": {
          "base_uri": "https://localhost:8080/",
          "height": 398
        }
      },
      "cell_type": "code",
      "source": [
        "#*** 03/23/2019  - Using linear regression on the data points to make prediction for future population values\n",
        "\n",
        "import seaborn as sns\n",
        "\n",
        "print(\"Linear Regression applied to each set of population data for future predictions\")\n",
        "sns.regplot(x=xaxis, y=df.loc[0:]['anglo'], data=df)\n",
        "sns.regplot(x=xaxis, y=df.loc[0:]['black'], data=df)\n",
        "sns.regplot(x=xaxis, y=df.loc[0:]['hispanic'], data=df)\n",
        "sns.regplot(x=xaxis, y=df.loc[0:]['other'], data=df)\n"
      ],
      "execution_count": 7,
      "outputs": [
        {
          "output_type": "stream",
          "text": [
            "Linear Regression applied to each set of population data for future predictions\n"
          ],
          "name": "stdout"
        },
        {
          "output_type": "execute_result",
          "data": {
            "text/plain": [
              "<matplotlib.axes._subplots.AxesSubplot at 0x7f8a408774e0>"
            ]
          },
          "metadata": {
            "tags": []
          },
          "execution_count": 7
        },
        {
          "output_type": "display_data",
          "data": {
            "image/png": "[encoded data removed]",
            "text/plain": [
              "<Figure size 576x396 with 1 Axes>"
            ]
          },
          "metadata": {
            "tags": []
          }
        }
      ]
    },
    {
      "metadata": {
        "id": "USCZATpUlYWk",
        "colab_type": "code",
        "outputId": "66092ed9-1ce3-40c5-a18f-2a0bab3aac10",
        "colab": {
          "base_uri": "https://localhost:8080/",
          "height": 156
        }
      },
      "cell_type": "code",
      "source": [
        "user_year=input(\"Enter a year between 1990 and 2018: \")\n",
        "\n",
        "index=int(user_year)-1990\n",
        "#print(index)\n",
        "\n",
        "print(df.loc[index])\n",
        "\n",
        "#*** Code below is needed only if the the datafile will not import correctly\n",
        "# year=df[0][index]\n",
        "# total=df[1][index]\n",
        "# anglo=df[2][index]\n",
        "# black=df[3][index]\n",
        "# hispanic=df[4][index]\n",
        "# other=df[5][index]\n",
        "# print(\"Year = {}\".format(year))\n",
        "# print(\"Total = {}\".format(total))\n",
        "# print(\"Anglo = {}\".format(anglo))\n",
        "# print(\"Black = {}\".format(black))\n",
        "# print(\"Hispanic = {}\".format(hispanic))\n",
        "# print(\"Other = {}\".format(other))\n",
        "\n"
      ],
      "execution_count": 8,
      "outputs": [
        {
          "output_type": "stream",
          "text": [
            "Enter a year between 1990 and 2018: 1993\n",
            "year           1993\n",
            "total       3003167\n",
            "anglo       1578485\n",
            "black        558947\n",
            "hispanic     738747\n",
            "other        126988\n",
            "Name: 3, dtype: int64\n"
          ],
          "name": "stdout"
        }
      ]
    },
    {
      "metadata": {
        "id": "khH3uUZXVF-S",
        "colab_type": "code",
        "colab": {
          "base_uri": "https://localhost:8080/",
          "height": 250
        },
        "outputId": "d76faad8-fa61-42a0-c119-dd80991b81cf"
      },
      "cell_type": "code",
      "source": [
        "print(\"Table showing population data from 2010 - 2015\")\n",
        "df.query('year>=2010 & year<=2015')"
      ],
      "execution_count": 11,
      "outputs": [
        {
          "output_type": "stream",
          "text": [
            "Table showing population data from 2010 - 2015\n"
          ],
          "name": "stdout"
        },
        {
          "output_type": "execute_result",
          "data": {
            "text/html": [
              "<div>\n",
              "<style scoped>\n",
              "    .dataframe tbody tr th:only-of-type {\n",
              "        vertical-align: middle;\n",
              "    }\n",
              "\n",
              "    .dataframe tbody tr th {\n",
              "        vertical-align: top;\n",
              "    }\n",
              "\n",
              "    .dataframe thead th {\n",
              "        text-align: right;\n",
              "    }\n",
              "</style>\n",
              "<table border=\"1\" class=\"dataframe\">\n",
              "  <thead>\n",
              "    <tr style=\"text-align: right;\">\n",
              "      <th></th>\n",
              "      <th>year</th>\n",
              "      <th>total</th>\n",
              "      <th>anglo</th>\n",
              "      <th>black</th>\n",
              "      <th>hispanic</th>\n",
              "      <th>other</th>\n",
              "    </tr>\n",
              "  </thead>\n",
              "  <tbody>\n",
              "    <tr>\n",
              "      <th>20</th>\n",
              "      <td>2010</td>\n",
              "      <td>4092459</td>\n",
              "      <td>1349646</td>\n",
              "      <td>754258</td>\n",
              "      <td>1671540</td>\n",
              "      <td>317015</td>\n",
              "    </tr>\n",
              "    <tr>\n",
              "      <th>21</th>\n",
              "      <td>2011</td>\n",
              "      <td>4176764</td>\n",
              "      <td>1342077</td>\n",
              "      <td>766888</td>\n",
              "      <td>1737235</td>\n",
              "      <td>330564</td>\n",
              "    </tr>\n",
              "    <tr>\n",
              "      <th>22</th>\n",
              "      <td>2012</td>\n",
              "      <td>4245204</td>\n",
              "      <td>1353279</td>\n",
              "      <td>777936</td>\n",
              "      <td>1777136</td>\n",
              "      <td>336853</td>\n",
              "    </tr>\n",
              "    <tr>\n",
              "      <th>23</th>\n",
              "      <td>2013</td>\n",
              "      <td>4325413</td>\n",
              "      <td>1328399</td>\n",
              "      <td>787526</td>\n",
              "      <td>1851606</td>\n",
              "      <td>357882</td>\n",
              "    </tr>\n",
              "    <tr>\n",
              "      <th>24</th>\n",
              "      <td>2014</td>\n",
              "      <td>4391445</td>\n",
              "      <td>1318226</td>\n",
              "      <td>795556</td>\n",
              "      <td>1907830</td>\n",
              "      <td>369833</td>\n",
              "    </tr>\n",
              "    <tr>\n",
              "      <th>25</th>\n",
              "      <td>2015</td>\n",
              "      <td>4471427</td>\n",
              "      <td>1309800</td>\n",
              "      <td>805768</td>\n",
              "      <td>1970989</td>\n",
              "      <td>384870</td>\n",
              "    </tr>\n",
              "  </tbody>\n",
              "</table>\n",
              "</div>"
            ],
            "text/plain": [
              "    year    total    anglo   black  hispanic   other\n",
              "20  2010  4092459  1349646  754258   1671540  317015\n",
              "21  2011  4176764  1342077  766888   1737235  330564\n",
              "22  2012  4245204  1353279  777936   1777136  336853\n",
              "23  2013  4325413  1328399  787526   1851606  357882\n",
              "24  2014  4391445  1318226  795556   1907830  369833\n",
              "25  2015  4471427  1309800  805768   1970989  384870"
            ]
          },
          "metadata": {
            "tags": []
          },
          "execution_count": 11
        }
      ]
    },
    {
      "metadata": {
        "id": "hKsHAq0CowZ3",
        "colab_type": "code",
        "colab": {}
      },
      "cell_type": "code",
      "source": [
        ""
      ],
      "execution_count": 0,
      "outputs": []
    }
  ]
}