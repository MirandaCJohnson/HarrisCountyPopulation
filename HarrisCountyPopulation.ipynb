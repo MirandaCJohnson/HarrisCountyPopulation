{
  "nbformat": 4,
  "nbformat_minor": 0,
  "metadata": {
    "colab": {
      "name": "HarrisCountyPopulation.ipynb",
      "version": "0.3.2",
      "provenance": [],
      "collapsed_sections": [],
      "include_colab_link": true
    },
    "kernelspec": {
      "name": "python3",
      "display_name": "Python 3"
    }
  },
  "cells": [
    {
      "cell_type": "markdown",
      "metadata": {
        "id": "view-in-github",
        "colab_type": "text"
      },
      "source": [
        "<a href=\"https://colab.research.google.com/github/MirandaCJohnson/HarrisCountyPopulation/blob/master/HarrisCountyPopulation.ipynb\" target=\"_parent\"><img src=\"https://colab.research.google.com/assets/colab-badge.svg\" alt=\"Open In Colab\"/></a>"
      ]
    },
    {
      "metadata": {
        "id": "w1R3I45LAno6",
        "colab_type": "code",
        "outputId": "8d6aaa9f-5130-416f-b460-d35259966ffe",
        "colab": {
          "base_uri": "https://localhost:8080/",
          "height": 510
        }
      },
      "cell_type": "code",
      "source": [
        "# 03/08/2019\n",
        "#\n",
        "#\n",
        "\n",
        "#dataset=\"https://github.com/MirandaCJohnson/HarrisCountyPopulation/blob/master/HarrisCountyPopulationData1990-2018.csv\"\n",
        "\n",
        "import os\n",
        "import pandas as pd\n",
        "import numpy as np\n",
        "\n",
        "#table=pd.read_csv(dataset)\n",
        "#print(os.path.exists(table))\n",
        "\n",
        "#Year,Total,Anglo,Black,Hispanic,Other\n",
        "pop_data=[#[\"Year\", \"Total\", \"Anglo\", \"Black\", \"Hispanic\", \"Other\"], \n",
        "[1990,2818199,1532412,529572,645504,110711], [1991,2884993,1550474,540822,677573,116124], [1992,2944348,1564959,549974,707848,121567],\n",
        "    [1993,3003167,1578485,558947,738747,126988], [1994,3039460,1586614,566154,757894,128798], [1995,3069359,1593397,572537,773856,129569],\n",
        "    [1996,3117376,1602774,579492,801543,133567], [1997,3157875,1609134,586038,826420,136283], [1998,3204720,1617733,593292,853783,139912],\n",
        "    [1999,3251550,1625727,600450,882039,143334], [2000,3400578,1456811,630184,1119751,193832], [2001,3461662,1436782,636191,1184181,204508],\n",
        "    [2002,3540965,1425264,645210,1254274,216217], [2003,3590921,1399824,648364,1315958,226775], [2004,3645275,1374353,651851,1381191,237880],\n",
        "    [2005,3693816,1346146,653246,1445913,248511], [2006,3830130,1335213,723873,1511155,259889], [2007,3891420,1309020,726346,1583992,272062],\n",
        "    [2008,3965716,1284964,730889,1664403,285460], [2009,4044032,1262951,735083,1746864,299134], [2010,4092459,1349646,754258,1671540,317015],\n",
        "    [2011,4176764,1342077,766888,1737235,330564], [2012,4245204,1353279,777936,1777136,336853], [2013,4325413,1328399,787526,1851606,357882],\n",
        "    [2014,4391445,1318226,795556,1907830,369833], [2015,4471427,1309800,805768,1970989,384870], [2016,4551437,1301030,815405,2035480,399522], \n",
        "    [2017,4633511,1291892,824757,2101568,415294], [2018,4716479,1282079,834180,2168974,431246]]\n",
        "\n",
        "table=np.array(pop_data)\n",
        "print(table)\n"
      ],
      "execution_count": 0,
      "outputs": [
        {
          "output_type": "stream",
          "text": [
            "[[   1990 2818199 1532412  529572  645504  110711]\n",
            " [   1991 2884993 1550474  540822  677573  116124]\n",
            " [   1992 2944348 1564959  549974  707848  121567]\n",
            " [   1993 3003167 1578485  558947  738747  126988]\n",
            " [   1994 3039460 1586614  566154  757894  128798]\n",
            " [   1995 3069359 1593397  572537  773856  129569]\n",
            " [   1996 3117376 1602774  579492  801543  133567]\n",
            " [   1997 3157875 1609134  586038  826420  136283]\n",
            " [   1998 3204720 1617733  593292  853783  139912]\n",
            " [   1999 3251550 1625727  600450  882039  143334]\n",
            " [   2000 3400578 1456811  630184 1119751  193832]\n",
            " [   2001 3461662 1436782  636191 1184181  204508]\n",
            " [   2002 3540965 1425264  645210 1254274  216217]\n",
            " [   2003 3590921 1399824  648364 1315958  226775]\n",
            " [   2004 3645275 1374353  651851 1381191  237880]\n",
            " [   2005 3693816 1346146  653246 1445913  248511]\n",
            " [   2006 3830130 1335213  723873 1511155  259889]\n",
            " [   2007 3891420 1309020  726346 1583992  272062]\n",
            " [   2008 3965716 1284964  730889 1664403  285460]\n",
            " [   2009 4044032 1262951  735083 1746864  299134]\n",
            " [   2010 4092459 1349646  754258 1671540  317015]\n",
            " [   2011 4176764 1342077  766888 1737235  330564]\n",
            " [   2012 4245204 1353279  777936 1777136  336853]\n",
            " [   2013 4325413 1328399  787526 1851606  357882]\n",
            " [   2014 4391445 1318226  795556 1907830  369833]\n",
            " [   2015 4471427 1309800  805768 1970989  384870]\n",
            " [   2016 4551437 1301030  815405 2035480  399522]\n",
            " [   2017 4633511 1291892  824757 2101568  415294]\n",
            " [   2018 4716479 1282079  834180 2168974  431246]]\n"
          ],
          "name": "stdout"
        }
      ]
    },
    {
      "metadata": {
        "id": "oeqczet3CGkx",
        "colab_type": "code",
        "outputId": "1c413312-6d37-47f5-e826-4c48128be321",
        "colab": {
          "base_uri": "https://localhost:8080/",
          "height": 948
        }
      },
      "cell_type": "code",
      "source": [
        "#years=df[0][1:]\n",
        "#print(years)\n",
        "\n",
        "df=pd.DataFrame(data=pop_data)\n",
        "df\n",
        "#print(df[0])\n",
        "#print(df[1])"
      ],
      "execution_count": 0,
      "outputs": [
        {
          "output_type": "execute_result",
          "data": {
            "text/html": [
              "<div>\n",
              "<style scoped>\n",
              "    .dataframe tbody tr th:only-of-type {\n",
              "        vertical-align: middle;\n",
              "    }\n",
              "\n",
              "    .dataframe tbody tr th {\n",
              "        vertical-align: top;\n",
              "    }\n",
              "\n",
              "    .dataframe thead th {\n",
              "        text-align: right;\n",
              "    }\n",
              "</style>\n",
              "<table border=\"1\" class=\"dataframe\">\n",
              "  <thead>\n",
              "    <tr style=\"text-align: right;\">\n",
              "      <th></th>\n",
              "      <th>0</th>\n",
              "      <th>1</th>\n",
              "      <th>2</th>\n",
              "      <th>3</th>\n",
              "      <th>4</th>\n",
              "      <th>5</th>\n",
              "    </tr>\n",
              "  </thead>\n",
              "  <tbody>\n",
              "    <tr>\n",
              "      <th>0</th>\n",
              "      <td>1990</td>\n",
              "      <td>2818199</td>\n",
              "      <td>1532412</td>\n",
              "      <td>529572</td>\n",
              "      <td>645504</td>\n",
              "      <td>110711</td>\n",
              "    </tr>\n",
              "    <tr>\n",
              "      <th>1</th>\n",
              "      <td>1991</td>\n",
              "      <td>2884993</td>\n",
              "      <td>1550474</td>\n",
              "      <td>540822</td>\n",
              "      <td>677573</td>\n",
              "      <td>116124</td>\n",
              "    </tr>\n",
              "    <tr>\n",
              "      <th>2</th>\n",
              "      <td>1992</td>\n",
              "      <td>2944348</td>\n",
              "      <td>1564959</td>\n",
              "      <td>549974</td>\n",
              "      <td>707848</td>\n",
              "      <td>121567</td>\n",
              "    </tr>\n",
              "    <tr>\n",
              "      <th>3</th>\n",
              "      <td>1993</td>\n",
              "      <td>3003167</td>\n",
              "      <td>1578485</td>\n",
              "      <td>558947</td>\n",
              "      <td>738747</td>\n",
              "      <td>126988</td>\n",
              "    </tr>\n",
              "    <tr>\n",
              "      <th>4</th>\n",
              "      <td>1994</td>\n",
              "      <td>3039460</td>\n",
              "      <td>1586614</td>\n",
              "      <td>566154</td>\n",
              "      <td>757894</td>\n",
              "      <td>128798</td>\n",
              "    </tr>\n",
              "    <tr>\n",
              "      <th>5</th>\n",
              "      <td>1995</td>\n",
              "      <td>3069359</td>\n",
              "      <td>1593397</td>\n",
              "      <td>572537</td>\n",
              "      <td>773856</td>\n",
              "      <td>129569</td>\n",
              "    </tr>\n",
              "    <tr>\n",
              "      <th>6</th>\n",
              "      <td>1996</td>\n",
              "      <td>3117376</td>\n",
              "      <td>1602774</td>\n",
              "      <td>579492</td>\n",
              "      <td>801543</td>\n",
              "      <td>133567</td>\n",
              "    </tr>\n",
              "    <tr>\n",
              "      <th>7</th>\n",
              "      <td>1997</td>\n",
              "      <td>3157875</td>\n",
              "      <td>1609134</td>\n",
              "      <td>586038</td>\n",
              "      <td>826420</td>\n",
              "      <td>136283</td>\n",
              "    </tr>\n",
              "    <tr>\n",
              "      <th>8</th>\n",
              "      <td>1998</td>\n",
              "      <td>3204720</td>\n",
              "      <td>1617733</td>\n",
              "      <td>593292</td>\n",
              "      <td>853783</td>\n",
              "      <td>139912</td>\n",
              "    </tr>\n",
              "    <tr>\n",
              "      <th>9</th>\n",
              "      <td>1999</td>\n",
              "      <td>3251550</td>\n",
              "      <td>1625727</td>\n",
              "      <td>600450</td>\n",
              "      <td>882039</td>\n",
              "      <td>143334</td>\n",
              "    </tr>\n",
              "    <tr>\n",
              "      <th>10</th>\n",
              "      <td>2000</td>\n",
              "      <td>3400578</td>\n",
              "      <td>1456811</td>\n",
              "      <td>630184</td>\n",
              "      <td>1119751</td>\n",
              "      <td>193832</td>\n",
              "    </tr>\n",
              "    <tr>\n",
              "      <th>11</th>\n",
              "      <td>2001</td>\n",
              "      <td>3461662</td>\n",
              "      <td>1436782</td>\n",
              "      <td>636191</td>\n",
              "      <td>1184181</td>\n",
              "      <td>204508</td>\n",
              "    </tr>\n",
              "    <tr>\n",
              "      <th>12</th>\n",
              "      <td>2002</td>\n",
              "      <td>3540965</td>\n",
              "      <td>1425264</td>\n",
              "      <td>645210</td>\n",
              "      <td>1254274</td>\n",
              "      <td>216217</td>\n",
              "    </tr>\n",
              "    <tr>\n",
              "      <th>13</th>\n",
              "      <td>2003</td>\n",
              "      <td>3590921</td>\n",
              "      <td>1399824</td>\n",
              "      <td>648364</td>\n",
              "      <td>1315958</td>\n",
              "      <td>226775</td>\n",
              "    </tr>\n",
              "    <tr>\n",
              "      <th>14</th>\n",
              "      <td>2004</td>\n",
              "      <td>3645275</td>\n",
              "      <td>1374353</td>\n",
              "      <td>651851</td>\n",
              "      <td>1381191</td>\n",
              "      <td>237880</td>\n",
              "    </tr>\n",
              "    <tr>\n",
              "      <th>15</th>\n",
              "      <td>2005</td>\n",
              "      <td>3693816</td>\n",
              "      <td>1346146</td>\n",
              "      <td>653246</td>\n",
              "      <td>1445913</td>\n",
              "      <td>248511</td>\n",
              "    </tr>\n",
              "    <tr>\n",
              "      <th>16</th>\n",
              "      <td>2006</td>\n",
              "      <td>3830130</td>\n",
              "      <td>1335213</td>\n",
              "      <td>723873</td>\n",
              "      <td>1511155</td>\n",
              "      <td>259889</td>\n",
              "    </tr>\n",
              "    <tr>\n",
              "      <th>17</th>\n",
              "      <td>2007</td>\n",
              "      <td>3891420</td>\n",
              "      <td>1309020</td>\n",
              "      <td>726346</td>\n",
              "      <td>1583992</td>\n",
              "      <td>272062</td>\n",
              "    </tr>\n",
              "    <tr>\n",
              "      <th>18</th>\n",
              "      <td>2008</td>\n",
              "      <td>3965716</td>\n",
              "      <td>1284964</td>\n",
              "      <td>730889</td>\n",
              "      <td>1664403</td>\n",
              "      <td>285460</td>\n",
              "    </tr>\n",
              "    <tr>\n",
              "      <th>19</th>\n",
              "      <td>2009</td>\n",
              "      <td>4044032</td>\n",
              "      <td>1262951</td>\n",
              "      <td>735083</td>\n",
              "      <td>1746864</td>\n",
              "      <td>299134</td>\n",
              "    </tr>\n",
              "    <tr>\n",
              "      <th>20</th>\n",
              "      <td>2010</td>\n",
              "      <td>4092459</td>\n",
              "      <td>1349646</td>\n",
              "      <td>754258</td>\n",
              "      <td>1671540</td>\n",
              "      <td>317015</td>\n",
              "    </tr>\n",
              "    <tr>\n",
              "      <th>21</th>\n",
              "      <td>2011</td>\n",
              "      <td>4176764</td>\n",
              "      <td>1342077</td>\n",
              "      <td>766888</td>\n",
              "      <td>1737235</td>\n",
              "      <td>330564</td>\n",
              "    </tr>\n",
              "    <tr>\n",
              "      <th>22</th>\n",
              "      <td>2012</td>\n",
              "      <td>4245204</td>\n",
              "      <td>1353279</td>\n",
              "      <td>777936</td>\n",
              "      <td>1777136</td>\n",
              "      <td>336853</td>\n",
              "    </tr>\n",
              "    <tr>\n",
              "      <th>23</th>\n",
              "      <td>2013</td>\n",
              "      <td>4325413</td>\n",
              "      <td>1328399</td>\n",
              "      <td>787526</td>\n",
              "      <td>1851606</td>\n",
              "      <td>357882</td>\n",
              "    </tr>\n",
              "    <tr>\n",
              "      <th>24</th>\n",
              "      <td>2014</td>\n",
              "      <td>4391445</td>\n",
              "      <td>1318226</td>\n",
              "      <td>795556</td>\n",
              "      <td>1907830</td>\n",
              "      <td>369833</td>\n",
              "    </tr>\n",
              "    <tr>\n",
              "      <th>25</th>\n",
              "      <td>2015</td>\n",
              "      <td>4471427</td>\n",
              "      <td>1309800</td>\n",
              "      <td>805768</td>\n",
              "      <td>1970989</td>\n",
              "      <td>384870</td>\n",
              "    </tr>\n",
              "    <tr>\n",
              "      <th>26</th>\n",
              "      <td>2016</td>\n",
              "      <td>4551437</td>\n",
              "      <td>1301030</td>\n",
              "      <td>815405</td>\n",
              "      <td>2035480</td>\n",
              "      <td>399522</td>\n",
              "    </tr>\n",
              "    <tr>\n",
              "      <th>27</th>\n",
              "      <td>2017</td>\n",
              "      <td>4633511</td>\n",
              "      <td>1291892</td>\n",
              "      <td>824757</td>\n",
              "      <td>2101568</td>\n",
              "      <td>415294</td>\n",
              "    </tr>\n",
              "    <tr>\n",
              "      <th>28</th>\n",
              "      <td>2018</td>\n",
              "      <td>4716479</td>\n",
              "      <td>1282079</td>\n",
              "      <td>834180</td>\n",
              "      <td>2168974</td>\n",
              "      <td>431246</td>\n",
              "    </tr>\n",
              "  </tbody>\n",
              "</table>\n",
              "</div>"
            ],
            "text/plain": [
              "       0        1        2       3        4       5\n",
              "0   1990  2818199  1532412  529572   645504  110711\n",
              "1   1991  2884993  1550474  540822   677573  116124\n",
              "2   1992  2944348  1564959  549974   707848  121567\n",
              "3   1993  3003167  1578485  558947   738747  126988\n",
              "4   1994  3039460  1586614  566154   757894  128798\n",
              "5   1995  3069359  1593397  572537   773856  129569\n",
              "6   1996  3117376  1602774  579492   801543  133567\n",
              "7   1997  3157875  1609134  586038   826420  136283\n",
              "8   1998  3204720  1617733  593292   853783  139912\n",
              "9   1999  3251550  1625727  600450   882039  143334\n",
              "10  2000  3400578  1456811  630184  1119751  193832\n",
              "11  2001  3461662  1436782  636191  1184181  204508\n",
              "12  2002  3540965  1425264  645210  1254274  216217\n",
              "13  2003  3590921  1399824  648364  1315958  226775\n",
              "14  2004  3645275  1374353  651851  1381191  237880\n",
              "15  2005  3693816  1346146  653246  1445913  248511\n",
              "16  2006  3830130  1335213  723873  1511155  259889\n",
              "17  2007  3891420  1309020  726346  1583992  272062\n",
              "18  2008  3965716  1284964  730889  1664403  285460\n",
              "19  2009  4044032  1262951  735083  1746864  299134\n",
              "20  2010  4092459  1349646  754258  1671540  317015\n",
              "21  2011  4176764  1342077  766888  1737235  330564\n",
              "22  2012  4245204  1353279  777936  1777136  336853\n",
              "23  2013  4325413  1328399  787526  1851606  357882\n",
              "24  2014  4391445  1318226  795556  1907830  369833\n",
              "25  2015  4471427  1309800  805768  1970989  384870\n",
              "26  2016  4551437  1301030  815405  2035480  399522\n",
              "27  2017  4633511  1291892  824757  2101568  415294\n",
              "28  2018  4716479  1282079  834180  2168974  431246"
            ]
          },
          "metadata": {
            "tags": []
          },
          "execution_count": 2
        }
      ]
    },
    {
      "metadata": {
        "id": "LjsNZN1eIYgr",
        "colab_type": "code",
        "outputId": "682e5eed-3523-4985-b325-f56824dbef59",
        "colab": {
          "base_uri": "https://localhost:8080/",
          "height": 364
        }
      },
      "cell_type": "code",
      "source": [
        "import matplotlib.pyplot as plt\n",
        "#plt.scatter(df[0], df[1]) #Total\n",
        "plt.scatter(df[0], df[2]) #Anglo - Blue\n",
        "plt.scatter(df[0], df[3]) #Black - Green\n",
        "plt.scatter(df[0], df[4]) #Hispanic - Red\n",
        "plt.scatter(df[0], df[5]) #Other - Purple"
      ],
      "execution_count": 0,
      "outputs": [
        {
          "output_type": "execute_result",
          "data": {
            "text/plain": [
              "<matplotlib.collections.PathCollection at 0x7f3122910080>"
            ]
          },
          "metadata": {
            "tags": []
          },
          "execution_count": 3
        },
        {
          "output_type": "display_data",
          "data": {
            "image/png": "[encoded data removed]",
            "text/plain": [
              "<Figure size 576x396 with 1 Axes>"
            ]
          },
          "metadata": {
            "tags": []
          }
        }
      ]
    },
    {
      "metadata": {
        "id": "6Adv-wcQQQK6",
        "colab_type": "code",
        "outputId": "e3adec12-b784-46dc-c613-aa33f944a20b",
        "colab": {
          "base_uri": "https://localhost:8080/",
          "height": 156
        }
      },
      "cell_type": "code",
      "source": [
        "user_year=input(\"Enter a year between 1990 and 2018: \")\n",
        "\n",
        "index=int(user_year)-1990\n",
        "print(index)\n",
        "\n",
        "df[0][index]\n",
        "\n",
        "\n",
        "year=df[0][index]\n",
        "total=df[1][index]\n",
        "anglo=df[2][index]\n",
        "black=df[3][index]\n",
        "hispanic=df[4][index]\n",
        "other=df[5][index]\n",
        "\n",
        "print(\"Year = {}\".format(year))\n",
        "print(\"Total = {}\".format(total))\n",
        "print(\"Anglo = {}\".format(anglo))\n",
        "print(\"Black = {}\".format(black))\n",
        "print(\"Hispanic = {}\".format(hispanic))\n",
        "print(\"Other = {}\".format(other))"
      ],
      "execution_count": 0,
      "outputs": [
        {
          "output_type": "stream",
          "text": [
            "Enter a year between 1990 and 2018: 2015\n",
            "25\n",
            "Year = 2015\n",
            "Total = 4471427\n",
            "Anglo = 1309800\n",
            "Black = 805768\n",
            "Hispanic = 1970989\n",
            "Other = 384870\n"
          ],
          "name": "stdout"
        }
      ]
    },
    {
      "metadata": {
        "id": "USCZATpUlYWk",
        "colab_type": "code",
        "outputId": "42de2d5b-6242-4c98-fbb1-14a9c74b7082",
        "colab": {
          "base_uri": "https://localhost:8080/",
          "height": 347
        }
      },
      "cell_type": "code",
      "source": [
        "#plt.pie(df.loc[index:index, 2:])\n",
        "\n",
        "user_data=df.loc[index:index, 2:]\n",
        "#print(user_data)\n",
        "\n",
        "labels=['anglo', 'black', 'hispanic', 'other']\n",
        "#plt.scatter(labels, user_data)\n",
        "\n",
        "plt.pcolor(df, cmap='Purples')\n",
        "plt.colorbar()\n",
        "plt.show()"
      ],
      "execution_count": 0,
      "outputs": [
        {
          "output_type": "display_data",
          "data": {
            "image/png": "[encoded data removed]",
            "text/plain": [
              "<Figure size 576x396 with 2 Axes>"
            ]
          },
          "metadata": {
            "tags": []
          }
        }
      ]
    },
    {
      "metadata": {
        "id": "GADMMPBBO0bH",
        "colab_type": "code",
        "outputId": "70bc6076-0b5a-42e6-bbe0-54fee4011a22",
        "colab": {
          "base_uri": "https://localhost:8080/",
          "height": 689
        }
      },
      "cell_type": "code",
      "source": [
        "import seaborn as sns\n",
        "sns.regplot(x=labels, y=df[0] , data=df)"
      ],
      "execution_count": 0,
      "outputs": [
        {
          "output_type": "error",
          "ename": "ValueError",
          "evalue": "ignored",
          "traceback": [
            "\u001b[0;31m---------------------------------------------------------------------------\u001b[0m",
            "\u001b[0;31mValueError\u001b[0m                                Traceback (most recent call last)",
            "\u001b[0;32m<ipython-input-25-ccb7fab3c166>\u001b[0m in \u001b[0;36m<module>\u001b[0;34m()\u001b[0m\n\u001b[1;32m      1\u001b[0m \u001b[0;32mimport\u001b[0m \u001b[0mseaborn\u001b[0m \u001b[0;32mas\u001b[0m \u001b[0msns\u001b[0m\u001b[0;34m\u001b[0m\u001b[0;34m\u001b[0m\u001b[0m\n\u001b[0;32m----> 2\u001b[0;31m \u001b[0msns\u001b[0m\u001b[0;34m.\u001b[0m\u001b[0mregplot\u001b[0m\u001b[0;34m(\u001b[0m\u001b[0mx\u001b[0m\u001b[0;34m=\u001b[0m\u001b[0mlabels\u001b[0m\u001b[0;34m,\u001b[0m \u001b[0my\u001b[0m\u001b[0;34m=\u001b[0m\u001b[0mdf\u001b[0m\u001b[0;34m[\u001b[0m\u001b[0;36m0\u001b[0m\u001b[0;34m]\u001b[0m \u001b[0;34m,\u001b[0m \u001b[0mdata\u001b[0m\u001b[0;34m=\u001b[0m\u001b[0mdf\u001b[0m\u001b[0;34m)\u001b[0m\u001b[0;34m\u001b[0m\u001b[0;34m\u001b[0m\u001b[0m\n\u001b[0m",
            "\u001b[0;32m/usr/local/lib/python3.6/dist-packages/seaborn/linearmodels.py\u001b[0m in \u001b[0;36mregplot\u001b[0;34m(x, y, data, x_estimator, x_bins, x_ci, scatter, fit_reg, ci, n_boot, units, order, logistic, lowess, robust, logx, x_partial, y_partial, truncate, dropna, x_jitter, y_jitter, label, color, marker, scatter_kws, line_kws, ax)\u001b[0m\n\u001b[1;32m    769\u001b[0m                                  \u001b[0morder\u001b[0m\u001b[0;34m,\u001b[0m \u001b[0mlogistic\u001b[0m\u001b[0;34m,\u001b[0m \u001b[0mlowess\u001b[0m\u001b[0;34m,\u001b[0m \u001b[0mrobust\u001b[0m\u001b[0;34m,\u001b[0m \u001b[0mlogx\u001b[0m\u001b[0;34m,\u001b[0m\u001b[0;34m\u001b[0m\u001b[0;34m\u001b[0m\u001b[0m\n\u001b[1;32m    770\u001b[0m                                  \u001b[0mx_partial\u001b[0m\u001b[0;34m,\u001b[0m \u001b[0my_partial\u001b[0m\u001b[0;34m,\u001b[0m \u001b[0mtruncate\u001b[0m\u001b[0;34m,\u001b[0m \u001b[0mdropna\u001b[0m\u001b[0;34m,\u001b[0m\u001b[0;34m\u001b[0m\u001b[0;34m\u001b[0m\u001b[0m\n\u001b[0;32m--> 771\u001b[0;31m                                  x_jitter, y_jitter, color, label)\n\u001b[0m\u001b[1;32m    772\u001b[0m \u001b[0;34m\u001b[0m\u001b[0m\n\u001b[1;32m    773\u001b[0m     \u001b[0;32mif\u001b[0m \u001b[0max\u001b[0m \u001b[0;32mis\u001b[0m \u001b[0;32mNone\u001b[0m\u001b[0;34m:\u001b[0m\u001b[0;34m\u001b[0m\u001b[0;34m\u001b[0m\u001b[0m\n",
            "\u001b[0;32m/usr/local/lib/python3.6/dist-packages/seaborn/linearmodels.py\u001b[0m in \u001b[0;36m__init__\u001b[0;34m(self, x, y, data, x_estimator, x_bins, x_ci, scatter, fit_reg, ci, n_boot, units, order, logistic, lowess, robust, logx, x_partial, y_partial, truncate, dropna, x_jitter, y_jitter, color, label)\u001b[0m\n\u001b[1;32m    112\u001b[0m         \u001b[0;31m# Drop null observations\u001b[0m\u001b[0;34m\u001b[0m\u001b[0;34m\u001b[0m\u001b[0;34m\u001b[0m\u001b[0m\n\u001b[1;32m    113\u001b[0m         \u001b[0;32mif\u001b[0m \u001b[0mdropna\u001b[0m\u001b[0;34m:\u001b[0m\u001b[0;34m\u001b[0m\u001b[0;34m\u001b[0m\u001b[0m\n\u001b[0;32m--> 114\u001b[0;31m             \u001b[0mself\u001b[0m\u001b[0;34m.\u001b[0m\u001b[0mdropna\u001b[0m\u001b[0;34m(\u001b[0m\u001b[0;34m\"x\"\u001b[0m\u001b[0;34m,\u001b[0m \u001b[0;34m\"y\"\u001b[0m\u001b[0;34m,\u001b[0m \u001b[0;34m\"units\"\u001b[0m\u001b[0;34m,\u001b[0m \u001b[0;34m\"x_partial\"\u001b[0m\u001b[0;34m,\u001b[0m \u001b[0;34m\"y_partial\"\u001b[0m\u001b[0;34m)\u001b[0m\u001b[0;34m\u001b[0m\u001b[0;34m\u001b[0m\u001b[0m\n\u001b[0m\u001b[1;32m    115\u001b[0m \u001b[0;34m\u001b[0m\u001b[0m\n\u001b[1;32m    116\u001b[0m         \u001b[0;31m# Regress nuisance variables out of the data\u001b[0m\u001b[0;34m\u001b[0m\u001b[0;34m\u001b[0m\u001b[0;34m\u001b[0m\u001b[0m\n",
            "\u001b[0;32m/usr/local/lib/python3.6/dist-packages/seaborn/linearmodels.py\u001b[0m in \u001b[0;36mdropna\u001b[0;34m(self, *vars)\u001b[0m\n\u001b[1;32m     61\u001b[0m         \u001b[0mvals\u001b[0m \u001b[0;34m=\u001b[0m \u001b[0;34m[\u001b[0m\u001b[0mgetattr\u001b[0m\u001b[0;34m(\u001b[0m\u001b[0mself\u001b[0m\u001b[0;34m,\u001b[0m \u001b[0mvar\u001b[0m\u001b[0;34m)\u001b[0m \u001b[0;32mfor\u001b[0m \u001b[0mvar\u001b[0m \u001b[0;32min\u001b[0m \u001b[0mvars\u001b[0m\u001b[0;34m]\u001b[0m\u001b[0;34m\u001b[0m\u001b[0;34m\u001b[0m\u001b[0m\n\u001b[1;32m     62\u001b[0m         \u001b[0mvals\u001b[0m \u001b[0;34m=\u001b[0m \u001b[0;34m[\u001b[0m\u001b[0mv\u001b[0m \u001b[0;32mfor\u001b[0m \u001b[0mv\u001b[0m \u001b[0;32min\u001b[0m \u001b[0mvals\u001b[0m \u001b[0;32mif\u001b[0m \u001b[0mv\u001b[0m \u001b[0;32mis\u001b[0m \u001b[0;32mnot\u001b[0m \u001b[0;32mNone\u001b[0m\u001b[0;34m]\u001b[0m\u001b[0;34m\u001b[0m\u001b[0;34m\u001b[0m\u001b[0m\n\u001b[0;32m---> 63\u001b[0;31m         \u001b[0mnot_na\u001b[0m \u001b[0;34m=\u001b[0m \u001b[0mnp\u001b[0m\u001b[0;34m.\u001b[0m\u001b[0mall\u001b[0m\u001b[0;34m(\u001b[0m\u001b[0mnp\u001b[0m\u001b[0;34m.\u001b[0m\u001b[0mcolumn_stack\u001b[0m\u001b[0;34m(\u001b[0m\u001b[0;34m[\u001b[0m\u001b[0mpd\u001b[0m\u001b[0;34m.\u001b[0m\u001b[0mnotnull\u001b[0m\u001b[0;34m(\u001b[0m\u001b[0mv\u001b[0m\u001b[0;34m)\u001b[0m \u001b[0;32mfor\u001b[0m \u001b[0mv\u001b[0m \u001b[0;32min\u001b[0m \u001b[0mvals\u001b[0m\u001b[0;34m]\u001b[0m\u001b[0;34m)\u001b[0m\u001b[0;34m,\u001b[0m \u001b[0maxis\u001b[0m\u001b[0;34m=\u001b[0m\u001b[0;36m1\u001b[0m\u001b[0;34m)\u001b[0m\u001b[0;34m\u001b[0m\u001b[0;34m\u001b[0m\u001b[0m\n\u001b[0m\u001b[1;32m     64\u001b[0m         \u001b[0;32mfor\u001b[0m \u001b[0mvar\u001b[0m \u001b[0;32min\u001b[0m \u001b[0mvars\u001b[0m\u001b[0;34m:\u001b[0m\u001b[0;34m\u001b[0m\u001b[0;34m\u001b[0m\u001b[0m\n\u001b[1;32m     65\u001b[0m             \u001b[0mval\u001b[0m \u001b[0;34m=\u001b[0m \u001b[0mgetattr\u001b[0m\u001b[0;34m(\u001b[0m\u001b[0mself\u001b[0m\u001b[0;34m,\u001b[0m \u001b[0mvar\u001b[0m\u001b[0;34m)\u001b[0m\u001b[0;34m\u001b[0m\u001b[0;34m\u001b[0m\u001b[0m\n",
            "\u001b[0;32m/usr/local/lib/python3.6/dist-packages/numpy/lib/shape_base.py\u001b[0m in \u001b[0;36mcolumn_stack\u001b[0;34m(tup)\u001b[0m\n\u001b[1;32m    367\u001b[0m             \u001b[0marr\u001b[0m \u001b[0;34m=\u001b[0m \u001b[0marray\u001b[0m\u001b[0;34m(\u001b[0m\u001b[0marr\u001b[0m\u001b[0;34m,\u001b[0m \u001b[0mcopy\u001b[0m\u001b[0;34m=\u001b[0m\u001b[0;32mFalse\u001b[0m\u001b[0;34m,\u001b[0m \u001b[0msubok\u001b[0m\u001b[0;34m=\u001b[0m\u001b[0;32mTrue\u001b[0m\u001b[0;34m,\u001b[0m \u001b[0mndmin\u001b[0m\u001b[0;34m=\u001b[0m\u001b[0;36m2\u001b[0m\u001b[0;34m)\u001b[0m\u001b[0;34m.\u001b[0m\u001b[0mT\u001b[0m\u001b[0;34m\u001b[0m\u001b[0;34m\u001b[0m\u001b[0m\n\u001b[1;32m    368\u001b[0m         \u001b[0marrays\u001b[0m\u001b[0;34m.\u001b[0m\u001b[0mappend\u001b[0m\u001b[0;34m(\u001b[0m\u001b[0marr\u001b[0m\u001b[0;34m)\u001b[0m\u001b[0;34m\u001b[0m\u001b[0;34m\u001b[0m\u001b[0m\n\u001b[0;32m--> 369\u001b[0;31m     \u001b[0;32mreturn\u001b[0m \u001b[0m_nx\u001b[0m\u001b[0;34m.\u001b[0m\u001b[0mconcatenate\u001b[0m\u001b[0;34m(\u001b[0m\u001b[0marrays\u001b[0m\u001b[0;34m,\u001b[0m \u001b[0;36m1\u001b[0m\u001b[0;34m)\u001b[0m\u001b[0;34m\u001b[0m\u001b[0;34m\u001b[0m\u001b[0m\n\u001b[0m\u001b[1;32m    370\u001b[0m \u001b[0;34m\u001b[0m\u001b[0m\n\u001b[1;32m    371\u001b[0m \u001b[0;32mdef\u001b[0m \u001b[0mdstack\u001b[0m\u001b[0;34m(\u001b[0m\u001b[0mtup\u001b[0m\u001b[0;34m)\u001b[0m\u001b[0;34m:\u001b[0m\u001b[0;34m\u001b[0m\u001b[0;34m\u001b[0m\u001b[0m\n",
            "\u001b[0;31mValueError\u001b[0m: all the input array dimensions except for the concatenation axis must match exactly"
          ]
        }
      ]
    },
    {
      "metadata": {
        "id": "q6ilxgskD83u",
        "colab_type": "code",
        "outputId": "0e22867a-f40a-4328-e957-e96e0d918943",
        "colab": {
          "base_uri": "https://localhost:8080/",
          "height": 676
        }
      },
      "cell_type": "code",
      "source": [
        ""
      ],
      "execution_count": 0,
      "outputs": [
        {
          "output_type": "error",
          "ename": "ValueError",
          "evalue": "ignored",
          "traceback": [
            "\u001b[0;31m---------------------------------------------------------------------------\u001b[0m",
            "\u001b[0;31mValueError\u001b[0m                                Traceback (most recent call last)",
            "\u001b[0;32m<ipython-input-22-ccb7fab3c166>\u001b[0m in \u001b[0;36m<module>\u001b[0;34m()\u001b[0m\n\u001b[1;32m      1\u001b[0m \u001b[0;32mimport\u001b[0m \u001b[0mseaborn\u001b[0m \u001b[0;32mas\u001b[0m \u001b[0msns\u001b[0m\u001b[0;34m\u001b[0m\u001b[0;34m\u001b[0m\u001b[0m\n\u001b[0;32m----> 2\u001b[0;31m \u001b[0msns\u001b[0m\u001b[0;34m.\u001b[0m\u001b[0mregplot\u001b[0m\u001b[0;34m(\u001b[0m\u001b[0mx\u001b[0m\u001b[0;34m=\u001b[0m\u001b[0mlabels\u001b[0m\u001b[0;34m,\u001b[0m \u001b[0my\u001b[0m\u001b[0;34m=\u001b[0m\u001b[0mdf\u001b[0m\u001b[0;34m[\u001b[0m\u001b[0;36m0\u001b[0m\u001b[0;34m]\u001b[0m \u001b[0;34m,\u001b[0m \u001b[0mdata\u001b[0m\u001b[0;34m=\u001b[0m\u001b[0mdf\u001b[0m\u001b[0;34m)\u001b[0m\u001b[0;34m\u001b[0m\u001b[0;34m\u001b[0m\u001b[0m\n\u001b[0m",
            "\u001b[0;32m/usr/local/lib/python3.6/dist-packages/seaborn/linearmodels.py\u001b[0m in \u001b[0;36mregplot\u001b[0;34m(x, y, data, x_estimator, x_bins, x_ci, scatter, fit_reg, ci, n_boot, units, order, logistic, lowess, robust, logx, x_partial, y_partial, truncate, dropna, x_jitter, y_jitter, label, color, marker, scatter_kws, line_kws, ax)\u001b[0m\n\u001b[1;32m    769\u001b[0m                                  \u001b[0morder\u001b[0m\u001b[0;34m,\u001b[0m \u001b[0mlogistic\u001b[0m\u001b[0;34m,\u001b[0m \u001b[0mlowess\u001b[0m\u001b[0;34m,\u001b[0m \u001b[0mrobust\u001b[0m\u001b[0;34m,\u001b[0m \u001b[0mlogx\u001b[0m\u001b[0;34m,\u001b[0m\u001b[0;34m\u001b[0m\u001b[0;34m\u001b[0m\u001b[0m\n\u001b[1;32m    770\u001b[0m                                  \u001b[0mx_partial\u001b[0m\u001b[0;34m,\u001b[0m \u001b[0my_partial\u001b[0m\u001b[0;34m,\u001b[0m \u001b[0mtruncate\u001b[0m\u001b[0;34m,\u001b[0m \u001b[0mdropna\u001b[0m\u001b[0;34m,\u001b[0m\u001b[0;34m\u001b[0m\u001b[0;34m\u001b[0m\u001b[0m\n\u001b[0;32m--> 771\u001b[0;31m                                  x_jitter, y_jitter, color, label)\n\u001b[0m\u001b[1;32m    772\u001b[0m \u001b[0;34m\u001b[0m\u001b[0m\n\u001b[1;32m    773\u001b[0m     \u001b[0;32mif\u001b[0m \u001b[0max\u001b[0m \u001b[0;32mis\u001b[0m \u001b[0;32mNone\u001b[0m\u001b[0;34m:\u001b[0m\u001b[0;34m\u001b[0m\u001b[0;34m\u001b[0m\u001b[0m\n",
            "\u001b[0;32m/usr/local/lib/python3.6/dist-packages/seaborn/linearmodels.py\u001b[0m in \u001b[0;36m__init__\u001b[0;34m(self, x, y, data, x_estimator, x_bins, x_ci, scatter, fit_reg, ci, n_boot, units, order, logistic, lowess, robust, logx, x_partial, y_partial, truncate, dropna, x_jitter, y_jitter, color, label)\u001b[0m\n\u001b[1;32m    112\u001b[0m         \u001b[0;31m# Drop null observations\u001b[0m\u001b[0;34m\u001b[0m\u001b[0;34m\u001b[0m\u001b[0;34m\u001b[0m\u001b[0m\n\u001b[1;32m    113\u001b[0m         \u001b[0;32mif\u001b[0m \u001b[0mdropna\u001b[0m\u001b[0;34m:\u001b[0m\u001b[0;34m\u001b[0m\u001b[0;34m\u001b[0m\u001b[0m\n\u001b[0;32m--> 114\u001b[0;31m             \u001b[0mself\u001b[0m\u001b[0;34m.\u001b[0m\u001b[0mdropna\u001b[0m\u001b[0;34m(\u001b[0m\u001b[0;34m\"x\"\u001b[0m\u001b[0;34m,\u001b[0m \u001b[0;34m\"y\"\u001b[0m\u001b[0;34m,\u001b[0m \u001b[0;34m\"units\"\u001b[0m\u001b[0;34m,\u001b[0m \u001b[0;34m\"x_partial\"\u001b[0m\u001b[0;34m,\u001b[0m \u001b[0;34m\"y_partial\"\u001b[0m\u001b[0;34m)\u001b[0m\u001b[0;34m\u001b[0m\u001b[0;34m\u001b[0m\u001b[0m\n\u001b[0m\u001b[1;32m    115\u001b[0m \u001b[0;34m\u001b[0m\u001b[0m\n\u001b[1;32m    116\u001b[0m         \u001b[0;31m# Regress nuisance variables out of the data\u001b[0m\u001b[0;34m\u001b[0m\u001b[0;34m\u001b[0m\u001b[0;34m\u001b[0m\u001b[0m\n",
            "\u001b[0;32m/usr/local/lib/python3.6/dist-packages/seaborn/linearmodels.py\u001b[0m in \u001b[0;36mdropna\u001b[0;34m(self, *vars)\u001b[0m\n\u001b[1;32m     61\u001b[0m         \u001b[0mvals\u001b[0m \u001b[0;34m=\u001b[0m \u001b[0;34m[\u001b[0m\u001b[0mgetattr\u001b[0m\u001b[0;34m(\u001b[0m\u001b[0mself\u001b[0m\u001b[0;34m,\u001b[0m \u001b[0mvar\u001b[0m\u001b[0;34m)\u001b[0m \u001b[0;32mfor\u001b[0m \u001b[0mvar\u001b[0m \u001b[0;32min\u001b[0m \u001b[0mvars\u001b[0m\u001b[0;34m]\u001b[0m\u001b[0;34m\u001b[0m\u001b[0;34m\u001b[0m\u001b[0m\n\u001b[1;32m     62\u001b[0m         \u001b[0mvals\u001b[0m \u001b[0;34m=\u001b[0m \u001b[0;34m[\u001b[0m\u001b[0mv\u001b[0m \u001b[0;32mfor\u001b[0m \u001b[0mv\u001b[0m \u001b[0;32min\u001b[0m \u001b[0mvals\u001b[0m \u001b[0;32mif\u001b[0m \u001b[0mv\u001b[0m \u001b[0;32mis\u001b[0m \u001b[0;32mnot\u001b[0m \u001b[0;32mNone\u001b[0m\u001b[0;34m]\u001b[0m\u001b[0;34m\u001b[0m\u001b[0;34m\u001b[0m\u001b[0m\n\u001b[0;32m---> 63\u001b[0;31m         \u001b[0mnot_na\u001b[0m \u001b[0;34m=\u001b[0m \u001b[0mnp\u001b[0m\u001b[0;34m.\u001b[0m\u001b[0mall\u001b[0m\u001b[0;34m(\u001b[0m\u001b[0mnp\u001b[0m\u001b[0;34m.\u001b[0m\u001b[0mcolumn_stack\u001b[0m\u001b[0;34m(\u001b[0m\u001b[0;34m[\u001b[0m\u001b[0mpd\u001b[0m\u001b[0;34m.\u001b[0m\u001b[0mnotnull\u001b[0m\u001b[0;34m(\u001b[0m\u001b[0mv\u001b[0m\u001b[0;34m)\u001b[0m \u001b[0;32mfor\u001b[0m \u001b[0mv\u001b[0m \u001b[0;32min\u001b[0m \u001b[0mvals\u001b[0m\u001b[0;34m]\u001b[0m\u001b[0;34m)\u001b[0m\u001b[0;34m,\u001b[0m \u001b[0maxis\u001b[0m\u001b[0;34m=\u001b[0m\u001b[0;36m1\u001b[0m\u001b[0;34m)\u001b[0m\u001b[0;34m\u001b[0m\u001b[0;34m\u001b[0m\u001b[0m\n\u001b[0m\u001b[1;32m     64\u001b[0m         \u001b[0;32mfor\u001b[0m \u001b[0mvar\u001b[0m \u001b[0;32min\u001b[0m \u001b[0mvars\u001b[0m\u001b[0;34m:\u001b[0m\u001b[0;34m\u001b[0m\u001b[0;34m\u001b[0m\u001b[0m\n\u001b[1;32m     65\u001b[0m             \u001b[0mval\u001b[0m \u001b[0;34m=\u001b[0m \u001b[0mgetattr\u001b[0m\u001b[0;34m(\u001b[0m\u001b[0mself\u001b[0m\u001b[0;34m,\u001b[0m \u001b[0mvar\u001b[0m\u001b[0;34m)\u001b[0m\u001b[0;34m\u001b[0m\u001b[0;34m\u001b[0m\u001b[0m\n",
            "\u001b[0;32m/usr/local/lib/python3.6/dist-packages/numpy/lib/shape_base.py\u001b[0m in \u001b[0;36mcolumn_stack\u001b[0;34m(tup)\u001b[0m\n\u001b[1;32m    367\u001b[0m             \u001b[0marr\u001b[0m \u001b[0;34m=\u001b[0m \u001b[0marray\u001b[0m\u001b[0;34m(\u001b[0m\u001b[0marr\u001b[0m\u001b[0;34m,\u001b[0m \u001b[0mcopy\u001b[0m\u001b[0;34m=\u001b[0m\u001b[0;32mFalse\u001b[0m\u001b[0;34m,\u001b[0m \u001b[0msubok\u001b[0m\u001b[0;34m=\u001b[0m\u001b[0;32mTrue\u001b[0m\u001b[0;34m,\u001b[0m \u001b[0mndmin\u001b[0m\u001b[0;34m=\u001b[0m\u001b[0;36m2\u001b[0m\u001b[0;34m)\u001b[0m\u001b[0;34m.\u001b[0m\u001b[0mT\u001b[0m\u001b[0;34m\u001b[0m\u001b[0;34m\u001b[0m\u001b[0m\n\u001b[1;32m    368\u001b[0m         \u001b[0marrays\u001b[0m\u001b[0;34m.\u001b[0m\u001b[0mappend\u001b[0m\u001b[0;34m(\u001b[0m\u001b[0marr\u001b[0m\u001b[0;34m)\u001b[0m\u001b[0;34m\u001b[0m\u001b[0;34m\u001b[0m\u001b[0m\n\u001b[0;32m--> 369\u001b[0;31m     \u001b[0;32mreturn\u001b[0m \u001b[0m_nx\u001b[0m\u001b[0;34m.\u001b[0m\u001b[0mconcatenate\u001b[0m\u001b[0;34m(\u001b[0m\u001b[0marrays\u001b[0m\u001b[0;34m,\u001b[0m \u001b[0;36m1\u001b[0m\u001b[0;34m)\u001b[0m\u001b[0;34m\u001b[0m\u001b[0;34m\u001b[0m\u001b[0m\n\u001b[0m\u001b[1;32m    370\u001b[0m \u001b[0;34m\u001b[0m\u001b[0m\n\u001b[1;32m    371\u001b[0m \u001b[0;32mdef\u001b[0m \u001b[0mdstack\u001b[0m\u001b[0;34m(\u001b[0m\u001b[0mtup\u001b[0m\u001b[0;34m)\u001b[0m\u001b[0;34m:\u001b[0m\u001b[0;34m\u001b[0m\u001b[0;34m\u001b[0m\u001b[0m\n",
            "\u001b[0;31mValueError\u001b[0m: all the input array dimensions except for the concatenation axis must match exactly"
          ]
        }
      ]
    },
    {
      "metadata": {
        "id": "khH3uUZXVF-S",
        "colab_type": "code",
        "colab": {}
      },
      "cell_type": "code",
      "source": [
        ""
      ],
      "execution_count": 0,
      "outputs": []
    }
  ]
}